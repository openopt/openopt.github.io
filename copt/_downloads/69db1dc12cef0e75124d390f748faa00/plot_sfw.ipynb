{
  "cells": [
    {
      "cell_type": "code",
      "execution_count": null,
      "metadata": {
        "collapsed": false
      },
      "outputs": [],
      "source": [
        "%matplotlib inline"
      ]
    },
    {
      "cell_type": "markdown",
      "metadata": {},
      "source": [
        "\nComparison of variants of Stochastic FW\n===========================================\n\nThe problem solved in this case is a L1 constrained logistic regression\n(sometimes referred to as sparse logistic regression).\n\n"
      ]
    },
    {
      "cell_type": "code",
      "execution_count": null,
      "metadata": {
        "collapsed": false
      },
      "outputs": [],
      "source": [
        "import copt as cp\nimport matplotlib.pyplot as plt\nimport numpy as np\nimport sklearn\n\n\n# .. construct (random) dataset ..\nimport copt.constraint\nimport copt.loss\n\nn_samples, n_features = 500, 200\nnp.random.seed(0)\nX = np.random.randn(n_samples, n_features)\ny = np.random.rand(n_samples)\nbatch_size = n_samples // 10\nn_batches = n_samples // batch_size\nmax_iter = int(1e6)\nfreq = max(n_batches, max_iter // 1000)\n\n# .. objective function and regularizer ..\nf = copt.loss.LogLoss(X, y)\nconstraint = copt.constraint.L1Ball(1.)\n\n\n# .. callbacks to track progress ..\ndef fw_gap(x):\n    _, grad = f.f_grad(x)\n    return constraint.lmo(-grad, x)[0].dot(-grad)\n\n\nclass TraceGaps(cp.utils.Trace):\n    def __init__(self, f=None, freq=1):\n        super(TraceGaps, self).__init__(f, freq)\n        self.trace_gaps = []\n\n    def __call__(self, dl):\n        if self._counter % self.freq == 0:\n            self.trace_gaps.append(fw_gap(dl['x']))\n        super(TraceGaps, self).__call__(dl)\n\n\ncb_sfw_SAG = TraceGaps(f, freq=freq)\ncb_sfw_SAGA = TraceGaps(f, freq=freq)\ncb_sfw_mokhtari = TraceGaps(f, freq=freq)\ncb_sfw_lu_freund = TraceGaps(f, freq=freq)\n\n# .. run the SFW algorithm ..\nprint(\"Running SAGFW\")\nresult_sfw_SAG = cp.minimize_sfw(\n    f.partial_deriv,\n    X,\n    y,\n    np.zeros(n_features),\n    constraint.lmo,\n    batch_size,\n    callback=cb_sfw_SAG,\n    tol=0,\n    max_iter=max_iter,\n    variant='SAG'\n)\n\nprint(\"Running SAGAFW\")\nresult_sfw_SAGA = cp.minimize_sfw(\n    f.partial_deriv,\n    X,\n    y,\n    np.zeros(n_features),\n    constraint.lmo,\n    batch_size,\n    callback=cb_sfw_SAGA,\n    tol=0,\n    max_iter=max_iter,\n    variant='SAGA'\n)\n\nprint(\"Running MHK\")\nresult_sfw_mokhtari = cp.minimize_sfw(\n    f.partial_deriv,\n    X,\n    y,\n    np.zeros(n_features),\n    constraint.lmo,\n    batch_size,\n    callback=cb_sfw_mokhtari,\n    tol=0,\n    max_iter=max_iter,\n    variant='MHK'\n)\n\nprint(\"Running LF\")\nresult_sfw_lu_freund = cp.minimize_sfw(\n    f.partial_deriv,\n    X,\n    y,\n    np.zeros(n_features),\n    constraint.lmo,\n    batch_size,\n    callback=cb_sfw_lu_freund,\n    tol=0,\n    max_iter=max_iter,\n    variant='LF'\n)\n# .. plot the result ..\nmax_gap = max(cb_sfw_SAG.trace_gaps[0],\n              cb_sfw_mokhtari.trace_gaps[0],\n              cb_sfw_lu_freund.trace_gaps[0],\n              cb_sfw_SAGA.trace_gaps[0])\n\nmax_val = max(cb_sfw_SAG.trace_fx[0],\n              cb_sfw_mokhtari.trace_fx[0],\n              cb_sfw_lu_freund.trace_fx[0],\n              cb_sfw_SAGA.trace_fx[0])\n\nmin_val = min(np.min(cb_sfw_SAG.trace_fx),\n              np.min(cb_sfw_mokhtari.trace_fx),\n              np.min(cb_sfw_lu_freund.trace_fx),\n              np.min(cb_sfw_SAGA.trace_fx),\n              )\n\nfig, (ax1, ax2) = plt.subplots(2, sharex=True)\nfig.suptitle('Stochastic Frank-Wolfe')\n\nax1.plot(freq * batch_size * np.arange(len(cb_sfw_SAG.trace_gaps)), np.array(cb_sfw_SAG.trace_gaps) / max_gap, label=\"SAG\")\nax1.plot(freq * batch_size * np.arange(len(cb_sfw_SAGA.trace_gaps)), np.array(cb_sfw_SAGA.trace_gaps) / max_gap, label=\"SAGA\")\nax1.plot(freq * batch_size * np.arange(len(cb_sfw_mokhtari.trace_gaps)), np.array(cb_sfw_mokhtari.trace_gaps) / max_gap, label='Mokhtari et al. (2018)')\nax1.plot(freq * batch_size * np.arange(len(cb_sfw_lu_freund.trace_gaps)), np.array(cb_sfw_lu_freund.trace_gaps) / max_gap, label='Lu and Freund (2018)')\nax1.set_ylabel(\"Relative FW gap\", fontweight=\"bold\")\nax1.set_yscale('log')\nax1.set_xscale('log')\nax1.grid(True)\n\nax2.plot(freq * batch_size * np.arange(len(cb_sfw_SAG.trace_fx)), (np.array(cb_sfw_SAG.trace_fx) - min_val) / (max_val - min_val), label=\"SAG\")\nax2.plot(freq * batch_size * np.arange(len(cb_sfw_SAGA.trace_fx)), (np.array(cb_sfw_SAGA.trace_fx) - min_val) / (max_val - min_val), label=\"SAGA\")\nax2.plot(freq * batch_size * np.arange(len(cb_sfw_mokhtari.trace_fx)), (np.array(cb_sfw_mokhtari.trace_fx) - min_val) / (max_val - min_val), label='Mokhtari et al. (2018)')\nax2.plot(freq * batch_size * np.arange(len(cb_sfw_lu_freund.trace_fx)), (np.array(cb_sfw_lu_freund.trace_fx) - min_val) / (max_val - min_val), label='Lu and Freund (2018)')\nax2.set_ylabel(\"Relative suboptimality\", fontweight=\"bold\")\nax2.set_xlabel(\"Number of gradient evaluations\", fontweight=\"bold\")\nax2.set_yscale('log')\nax2.set_xscale(\"log\")\nax2.grid(True)\n\nplt.xlim(1e4, 4e8)\nplt.legend()\nplt.show()"
      ]
    }
  ],
  "metadata": {
    "kernelspec": {
      "display_name": "Python 3",
      "language": "python",
      "name": "python3"
    },
    "language_info": {
      "codemirror_mode": {
        "name": "ipython",
        "version": 3
      },
      "file_extension": ".py",
      "mimetype": "text/x-python",
      "name": "python",
      "nbconvert_exporter": "python",
      "pygments_lexer": "ipython3",
      "version": "3.6.12"
    }
  },
  "nbformat": 4,
  "nbformat_minor": 0
}