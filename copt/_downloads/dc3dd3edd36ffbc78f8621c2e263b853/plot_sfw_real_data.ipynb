{
  "cells": [
    {
      "cell_type": "code",
      "execution_count": null,
      "metadata": {
        "collapsed": false
      },
      "outputs": [],
      "source": [
        "%matplotlib inline"
      ]
    },
    {
      "cell_type": "markdown",
      "metadata": {},
      "source": [
        "\nComparison of variants of Stochastic FW on real data\n====================================================\n\nThe problem solved in this case is a L1 constrained logistic regression\n(sometimes referred to as sparse logistic regression).\n\n"
      ]
    },
    {
      "cell_type": "code",
      "execution_count": null,
      "metadata": {
        "collapsed": false
      },
      "outputs": [],
      "source": [
        "import matplotlib.pyplot as plt\nimport numpy as np\nimport copt as cp\n\n# .. Load dataset ..\nimport copt.constraint\nimport copt.loss\n\nnp.random.seed(0)\nX, y = cp.datasets.load_rcv1(\"train\")\ndataset_name = \"RCV1\"\nn_samples, n_features = X.shape\nbatch_size = 500\nmax_iter = int(1e4)\nfreq = max(n_samples // (batch_size * 2), 1)\n\n# .. objective function and regularizer ..\nf = copt.loss.LogLoss(X, y)\nconstraint = copt.constraint.L1Ball(2e3)\n\n# .. callbacks to track progress ..\ndef fw_gap(x):\n    _, grad = f.f_grad(x)\n    return constraint.lmo(-grad, x)[0].dot(-grad)\n\n\nclass TraceGaps(cp.utils.Trace):\n    def __init__(self, f=None, freq=1):\n        super(TraceGaps, self).__init__(f, freq)\n        self.trace_gaps = []\n\n    def __call__(self, dl):\n        if self._counter % self.freq == 0:\n            self.trace_gaps.append(fw_gap(dl['x']))\n        super(TraceGaps, self).__call__(dl)\n\n\ncb_SAG = TraceGaps(f, freq=freq)\ncb_MHK = TraceGaps(f, freq=freq)\ncb_LF = TraceGaps(f, freq=freq)\n\n\n# .. run the SFW algorithm ..\nprint(\"Running SAGFW\")\nresult_SAG = cp.minimize_sfw(\n    f.partial_deriv,\n    X,\n    y,\n    np.zeros(n_features),\n    constraint.lmo,\n    batch_size,\n    callback=cb_SAG,\n    tol=0,\n    max_iter=max_iter,\n    variant='SAG'\n)\n\nprint(\"Running MHK\")\nresult_MHK = cp.minimize_sfw(\n    f.partial_deriv,\n    X,\n    y,\n    np.zeros(n_features),\n    constraint.lmo,\n    batch_size,\n    callback=cb_MHK,\n    tol=0,\n    max_iter=max_iter,\n    variant='MHK'\n)\n\nprint(\"Running LF\")\nresult_LF = cp.minimize_sfw(\n    f.partial_deriv,\n    X,\n    y,\n    np.zeros(n_features),\n    constraint.lmo,\n    batch_size,\n    callback=cb_LF,\n    tol=0,\n    max_iter=max_iter,\n    variant='LF'\n)\n\nprint(\"Plotting...\")\n# .. plot the result ..\nmax_gap = max(cb_SAG.trace_gaps[0],\n              cb_MHK.trace_gaps[0],\n              cb_LF.trace_gaps[0],\n              )\n\nmax_val = max(np.max(cb_SAG.trace_fx),\n              np.max(cb_MHK.trace_fx),\n              np.max(cb_LF.trace_fx),\n              )\n\nmin_val = min(np.min(cb_SAG.trace_fx),\n              np.min(cb_MHK.trace_fx),\n              np.min(cb_LF.trace_fx),\n              )\n\n\nfig, (ax1, ax2) = plt.subplots(2, sharex=True)\n\nax1.set_title(\"Sparse Logistic Regression -- {}\".format(dataset_name), fontweight=\"bold\")\nax1.plot(batch_size * freq * np.arange(len(cb_LF.trace_gaps)), np.array(cb_LF.trace_gaps) / max_gap, label='SFW -- Lu and Freund (2020)')\nax1.plot(batch_size * freq * np.arange(len(cb_MHK.trace_gaps)), np.array(cb_MHK.trace_gaps) / max_gap, label='SFW -- Mokhtari et al. (2020)')\nax1.plot(batch_size * freq * np.arange(len(cb_SAG.trace_gaps)), np.array(cb_SAG.trace_gaps) / max_gap, label=\"SFW -- Negiar et al. (2020)\")\nax1.set_ylabel(\"Relative FW gap\", fontweight=\"bold\")\nax1.set_xscale('log')\nax1.set_yscale('log')\nax1.grid()\n\n\nax2.plot(batch_size * freq * np.arange(len(cb_LF.trace_fx)), (np.array(cb_LF.trace_fx) - min_val) / (max_val - min_val), label='SFW -- Lu and Freund (2020)')\nax2.plot(batch_size * freq * np.arange(len(cb_MHK.trace_fx)), (np.array(cb_MHK.trace_fx) - min_val) / (max_val - min_val), label='SFW -- Mokhtari et al. (2018)')\nax2.plot(batch_size * freq * np.arange(len(cb_SAG.trace_fx)), (np.array(cb_SAG.trace_fx) - min_val) / (max_val - min_val), label=\"SFW -- N\u00e9giar et al. (2020)\")\nax2.set_ylabel(\"Relative suboptimality\", fontweight=\"bold\")\nax2.set_xlabel(\"Number of gradient evaluations\", fontweight=\"bold\")\nax2.set_xscale(\"log\")\nax2.set_yscale(\"log\")\nax2.grid()\nplt.legend()\nplt.show()\nprint(\"Done.\")"
      ]
    }
  ],
  "metadata": {
    "kernelspec": {
      "display_name": "Python 3",
      "language": "python",
      "name": "python3"
    },
    "language_info": {
      "codemirror_mode": {
        "name": "ipython",
        "version": 3
      },
      "file_extension": ".py",
      "mimetype": "text/x-python",
      "name": "python",
      "nbconvert_exporter": "python",
      "pygments_lexer": "ipython3",
      "version": "3.6.12"
    }
  },
  "nbformat": 4,
  "nbformat_minor": 0
}